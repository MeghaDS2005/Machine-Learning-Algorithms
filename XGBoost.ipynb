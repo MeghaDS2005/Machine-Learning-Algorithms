{
 "cells": [
  {
   "cell_type": "markdown",
   "id": "1366d1d6",
   "metadata": {},
   "source": [
    "# XGBoost"
   ]
  },
  {
   "cell_type": "code",
   "execution_count": 2,
   "id": "6b031615",
   "metadata": {},
   "outputs": [
    {
     "name": "stdout",
     "output_type": "stream",
     "text": [
      "Requirement already satisfied: xgboost in c:\\users\\dell\\anaconda3\\lib\\site-packages (1.7.5)\n",
      "Requirement already satisfied: numpy in c:\\users\\dell\\anaconda3\\lib\\site-packages (from xgboost) (1.23.5)\n",
      "Requirement already satisfied: scipy in c:\\users\\dell\\anaconda3\\lib\\site-packages (from xgboost) (1.9.3)\n",
      "Note: you may need to restart the kernel to use updated packages.\n"
     ]
    },
    {
     "name": "stderr",
     "output_type": "stream",
     "text": [
      "WARNING: Ignoring invalid distribution -atplotlib (c:\\users\\dell\\anaconda3\\lib\\site-packages)\n",
      "WARNING: Ignoring invalid distribution -atplotlib (c:\\users\\dell\\anaconda3\\lib\\site-packages)\n",
      "WARNING: Ignoring invalid distribution -atplotlib (c:\\users\\dell\\anaconda3\\lib\\site-packages)\n",
      "WARNING: Ignoring invalid distribution -atplotlib (c:\\users\\dell\\anaconda3\\lib\\site-packages)\n",
      "WARNING: Ignoring invalid distribution -atplotlib (c:\\users\\dell\\anaconda3\\lib\\site-packages)\n",
      "WARNING: Ignoring invalid distribution -atplotlib (c:\\users\\dell\\anaconda3\\lib\\site-packages)\n"
     ]
    }
   ],
   "source": [
    "pip install --user xgboost"
   ]
  },
  {
   "cell_type": "code",
   "execution_count": 3,
   "id": "df6570f6",
   "metadata": {},
   "outputs": [],
   "source": [
    "import pandas as pd\n",
    "import numpy as np\n",
    "import matplotlib.pyplot as plt\n",
    "import seaborn as sns"
   ]
  },
  {
   "cell_type": "code",
   "execution_count": 16,
   "id": "a9d36868",
   "metadata": {},
   "outputs": [
    {
     "data": {
      "text/html": [
       "<div>\n",
       "<style scoped>\n",
       "    .dataframe tbody tr th:only-of-type {\n",
       "        vertical-align: middle;\n",
       "    }\n",
       "\n",
       "    .dataframe tbody tr th {\n",
       "        vertical-align: top;\n",
       "    }\n",
       "\n",
       "    .dataframe thead th {\n",
       "        text-align: right;\n",
       "    }\n",
       "</style>\n",
       "<table border=\"1\" class=\"dataframe\">\n",
       "  <thead>\n",
       "    <tr style=\"text-align: right;\">\n",
       "      <th></th>\n",
       "      <th>carat</th>\n",
       "      <th>cut</th>\n",
       "      <th>color</th>\n",
       "      <th>clarity</th>\n",
       "      <th>depth</th>\n",
       "      <th>table</th>\n",
       "      <th>price</th>\n",
       "      <th>x</th>\n",
       "      <th>y</th>\n",
       "      <th>z</th>\n",
       "    </tr>\n",
       "  </thead>\n",
       "  <tbody>\n",
       "    <tr>\n",
       "      <th>0</th>\n",
       "      <td>0.23</td>\n",
       "      <td>Ideal</td>\n",
       "      <td>E</td>\n",
       "      <td>SI2</td>\n",
       "      <td>61.5</td>\n",
       "      <td>55.0</td>\n",
       "      <td>326</td>\n",
       "      <td>3.95</td>\n",
       "      <td>3.98</td>\n",
       "      <td>2.43</td>\n",
       "    </tr>\n",
       "    <tr>\n",
       "      <th>1</th>\n",
       "      <td>0.21</td>\n",
       "      <td>Premium</td>\n",
       "      <td>E</td>\n",
       "      <td>SI1</td>\n",
       "      <td>59.8</td>\n",
       "      <td>61.0</td>\n",
       "      <td>326</td>\n",
       "      <td>3.89</td>\n",
       "      <td>3.84</td>\n",
       "      <td>2.31</td>\n",
       "    </tr>\n",
       "    <tr>\n",
       "      <th>2</th>\n",
       "      <td>0.23</td>\n",
       "      <td>Good</td>\n",
       "      <td>E</td>\n",
       "      <td>VS1</td>\n",
       "      <td>56.9</td>\n",
       "      <td>65.0</td>\n",
       "      <td>327</td>\n",
       "      <td>4.05</td>\n",
       "      <td>4.07</td>\n",
       "      <td>2.31</td>\n",
       "    </tr>\n",
       "    <tr>\n",
       "      <th>3</th>\n",
       "      <td>0.29</td>\n",
       "      <td>Premium</td>\n",
       "      <td>I</td>\n",
       "      <td>VS2</td>\n",
       "      <td>62.4</td>\n",
       "      <td>58.0</td>\n",
       "      <td>334</td>\n",
       "      <td>4.20</td>\n",
       "      <td>4.23</td>\n",
       "      <td>2.63</td>\n",
       "    </tr>\n",
       "    <tr>\n",
       "      <th>4</th>\n",
       "      <td>0.31</td>\n",
       "      <td>Good</td>\n",
       "      <td>J</td>\n",
       "      <td>SI2</td>\n",
       "      <td>63.3</td>\n",
       "      <td>58.0</td>\n",
       "      <td>335</td>\n",
       "      <td>4.34</td>\n",
       "      <td>4.35</td>\n",
       "      <td>2.75</td>\n",
       "    </tr>\n",
       "  </tbody>\n",
       "</table>\n",
       "</div>"
      ],
      "text/plain": [
       "   carat      cut color clarity  depth  table  price     x     y     z\n",
       "0   0.23    Ideal     E     SI2   61.5   55.0    326  3.95  3.98  2.43\n",
       "1   0.21  Premium     E     SI1   59.8   61.0    326  3.89  3.84  2.31\n",
       "2   0.23     Good     E     VS1   56.9   65.0    327  4.05  4.07  2.31\n",
       "3   0.29  Premium     I     VS2   62.4   58.0    334  4.20  4.23  2.63\n",
       "4   0.31     Good     J     SI2   63.3   58.0    335  4.34  4.35  2.75"
      ]
     },
     "execution_count": 16,
     "metadata": {},
     "output_type": "execute_result"
    }
   ],
   "source": [
    "dataset = sns.load_dataset(\"diamonds\")\n",
    "dataset.head()"
   ]
  },
  {
   "cell_type": "code",
   "execution_count": 17,
   "id": "69779ca7",
   "metadata": {},
   "outputs": [
    {
     "name": "stdout",
     "output_type": "stream",
     "text": [
      "<class 'pandas.core.frame.DataFrame'>\n",
      "RangeIndex: 53940 entries, 0 to 53939\n",
      "Data columns (total 10 columns):\n",
      " #   Column   Non-Null Count  Dtype   \n",
      "---  ------   --------------  -----   \n",
      " 0   carat    53940 non-null  float64 \n",
      " 1   cut      53940 non-null  category\n",
      " 2   color    53940 non-null  category\n",
      " 3   clarity  53940 non-null  category\n",
      " 4   depth    53940 non-null  float64 \n",
      " 5   table    53940 non-null  float64 \n",
      " 6   price    53940 non-null  int64   \n",
      " 7   x        53940 non-null  float64 \n",
      " 8   y        53940 non-null  float64 \n",
      " 9   z        53940 non-null  float64 \n",
      "dtypes: category(3), float64(6), int64(1)\n",
      "memory usage: 3.0 MB\n"
     ]
    }
   ],
   "source": [
    "dataset.info()"
   ]
  },
  {
   "cell_type": "code",
   "execution_count": 18,
   "id": "0f158cc3",
   "metadata": {},
   "outputs": [
    {
     "data": {
      "text/html": [
       "<div>\n",
       "<style scoped>\n",
       "    .dataframe tbody tr th:only-of-type {\n",
       "        vertical-align: middle;\n",
       "    }\n",
       "\n",
       "    .dataframe tbody tr th {\n",
       "        vertical-align: top;\n",
       "    }\n",
       "\n",
       "    .dataframe thead th {\n",
       "        text-align: right;\n",
       "    }\n",
       "</style>\n",
       "<table border=\"1\" class=\"dataframe\">\n",
       "  <thead>\n",
       "    <tr style=\"text-align: right;\">\n",
       "      <th></th>\n",
       "      <th>carat</th>\n",
       "      <th>depth</th>\n",
       "      <th>table</th>\n",
       "      <th>price</th>\n",
       "      <th>x</th>\n",
       "      <th>y</th>\n",
       "      <th>z</th>\n",
       "    </tr>\n",
       "  </thead>\n",
       "  <tbody>\n",
       "    <tr>\n",
       "      <th>count</th>\n",
       "      <td>53940.000000</td>\n",
       "      <td>53940.000000</td>\n",
       "      <td>53940.000000</td>\n",
       "      <td>53940.000000</td>\n",
       "      <td>53940.000000</td>\n",
       "      <td>53940.000000</td>\n",
       "      <td>53940.000000</td>\n",
       "    </tr>\n",
       "    <tr>\n",
       "      <th>mean</th>\n",
       "      <td>0.797940</td>\n",
       "      <td>61.749405</td>\n",
       "      <td>57.457184</td>\n",
       "      <td>3932.799722</td>\n",
       "      <td>5.731157</td>\n",
       "      <td>5.734526</td>\n",
       "      <td>3.538734</td>\n",
       "    </tr>\n",
       "    <tr>\n",
       "      <th>std</th>\n",
       "      <td>0.474011</td>\n",
       "      <td>1.432621</td>\n",
       "      <td>2.234491</td>\n",
       "      <td>3989.439738</td>\n",
       "      <td>1.121761</td>\n",
       "      <td>1.142135</td>\n",
       "      <td>0.705699</td>\n",
       "    </tr>\n",
       "    <tr>\n",
       "      <th>min</th>\n",
       "      <td>0.200000</td>\n",
       "      <td>43.000000</td>\n",
       "      <td>43.000000</td>\n",
       "      <td>326.000000</td>\n",
       "      <td>0.000000</td>\n",
       "      <td>0.000000</td>\n",
       "      <td>0.000000</td>\n",
       "    </tr>\n",
       "    <tr>\n",
       "      <th>25%</th>\n",
       "      <td>0.400000</td>\n",
       "      <td>61.000000</td>\n",
       "      <td>56.000000</td>\n",
       "      <td>950.000000</td>\n",
       "      <td>4.710000</td>\n",
       "      <td>4.720000</td>\n",
       "      <td>2.910000</td>\n",
       "    </tr>\n",
       "    <tr>\n",
       "      <th>50%</th>\n",
       "      <td>0.700000</td>\n",
       "      <td>61.800000</td>\n",
       "      <td>57.000000</td>\n",
       "      <td>2401.000000</td>\n",
       "      <td>5.700000</td>\n",
       "      <td>5.710000</td>\n",
       "      <td>3.530000</td>\n",
       "    </tr>\n",
       "    <tr>\n",
       "      <th>75%</th>\n",
       "      <td>1.040000</td>\n",
       "      <td>62.500000</td>\n",
       "      <td>59.000000</td>\n",
       "      <td>5324.250000</td>\n",
       "      <td>6.540000</td>\n",
       "      <td>6.540000</td>\n",
       "      <td>4.040000</td>\n",
       "    </tr>\n",
       "    <tr>\n",
       "      <th>max</th>\n",
       "      <td>5.010000</td>\n",
       "      <td>79.000000</td>\n",
       "      <td>95.000000</td>\n",
       "      <td>18823.000000</td>\n",
       "      <td>10.740000</td>\n",
       "      <td>58.900000</td>\n",
       "      <td>31.800000</td>\n",
       "    </tr>\n",
       "  </tbody>\n",
       "</table>\n",
       "</div>"
      ],
      "text/plain": [
       "              carat         depth         table         price             x  \\\n",
       "count  53940.000000  53940.000000  53940.000000  53940.000000  53940.000000   \n",
       "mean       0.797940     61.749405     57.457184   3932.799722      5.731157   \n",
       "std        0.474011      1.432621      2.234491   3989.439738      1.121761   \n",
       "min        0.200000     43.000000     43.000000    326.000000      0.000000   \n",
       "25%        0.400000     61.000000     56.000000    950.000000      4.710000   \n",
       "50%        0.700000     61.800000     57.000000   2401.000000      5.700000   \n",
       "75%        1.040000     62.500000     59.000000   5324.250000      6.540000   \n",
       "max        5.010000     79.000000     95.000000  18823.000000     10.740000   \n",
       "\n",
       "                  y             z  \n",
       "count  53940.000000  53940.000000  \n",
       "mean       5.734526      3.538734  \n",
       "std        1.142135      0.705699  \n",
       "min        0.000000      0.000000  \n",
       "25%        4.720000      2.910000  \n",
       "50%        5.710000      3.530000  \n",
       "75%        6.540000      4.040000  \n",
       "max       58.900000     31.800000  "
      ]
     },
     "execution_count": 18,
     "metadata": {},
     "output_type": "execute_result"
    }
   ],
   "source": [
    "dataset.describe()"
   ]
  },
  {
   "cell_type": "code",
   "execution_count": 19,
   "id": "0e449e0c",
   "metadata": {},
   "outputs": [
    {
     "data": {
      "text/html": [
       "<div>\n",
       "<style scoped>\n",
       "    .dataframe tbody tr th:only-of-type {\n",
       "        vertical-align: middle;\n",
       "    }\n",
       "\n",
       "    .dataframe tbody tr th {\n",
       "        vertical-align: top;\n",
       "    }\n",
       "\n",
       "    .dataframe thead th {\n",
       "        text-align: right;\n",
       "    }\n",
       "</style>\n",
       "<table border=\"1\" class=\"dataframe\">\n",
       "  <thead>\n",
       "    <tr style=\"text-align: right;\">\n",
       "      <th></th>\n",
       "      <th>cut</th>\n",
       "      <th>color</th>\n",
       "      <th>clarity</th>\n",
       "    </tr>\n",
       "  </thead>\n",
       "  <tbody>\n",
       "    <tr>\n",
       "      <th>count</th>\n",
       "      <td>53940</td>\n",
       "      <td>53940</td>\n",
       "      <td>53940</td>\n",
       "    </tr>\n",
       "    <tr>\n",
       "      <th>unique</th>\n",
       "      <td>5</td>\n",
       "      <td>7</td>\n",
       "      <td>8</td>\n",
       "    </tr>\n",
       "    <tr>\n",
       "      <th>top</th>\n",
       "      <td>Ideal</td>\n",
       "      <td>G</td>\n",
       "      <td>SI1</td>\n",
       "    </tr>\n",
       "    <tr>\n",
       "      <th>freq</th>\n",
       "      <td>21551</td>\n",
       "      <td>11292</td>\n",
       "      <td>13065</td>\n",
       "    </tr>\n",
       "  </tbody>\n",
       "</table>\n",
       "</div>"
      ],
      "text/plain": [
       "          cut  color clarity\n",
       "count   53940  53940   53940\n",
       "unique      5      7       8\n",
       "top     Ideal      G     SI1\n",
       "freq    21551  11292   13065"
      ]
     },
     "execution_count": 19,
     "metadata": {},
     "output_type": "execute_result"
    }
   ],
   "source": [
    "dataset.describe(exclude=np.number)"
   ]
  },
  {
   "cell_type": "markdown",
   "id": "8eb955a0",
   "metadata": {},
   "source": [
    "This code uses the describe() method on the diamonds DataFrame to generate a summary of its non-numeric columns.\n",
    "\n",
    "• The exclude parameter is set to np.number, which is a NumPy data type that includes all numeric types.\n",
    "\n",
    "• By setting exclude to np.number, the describe() method will only generate a summary for the non-numeric columns in the DataFrame.\n",
    "\n",
    "• The output will include the count, unique values, top value, and frequency of the top value for each non-numeric column."
   ]
  },
  {
   "cell_type": "code",
   "execution_count": 20,
   "id": "26282f30",
   "metadata": {},
   "outputs": [],
   "source": [
    "from sklearn.model_selection import train_test_split\n",
    "x,y= dataset.drop(\"price\", axis=1) , dataset[['price']]"
   ]
  },
  {
   "cell_type": "markdown",
   "id": "0c4b9f6d",
   "metadata": {},
   "source": [
    "This code snippet is used to extract text features from a dataset and convert them to Pandas category data type.\n",
    "\n",
    "• First, the select_dtypes() method is used on the dataset X to select columns that do not contain numerical data.\n",
    "\n",
    "• The exclude parameter is set to np.number to exclude columns with numerical data.\n",
    "\n",
    "• The resulting columns are stored in the cats variable as a list.\n",
    "\n",
    "• Next, a loop is used to iterate through each column in the cats list.\n",
    "\n",
    "• For each column, the astype() method is used to convert the data type to a Pandas category.\n",
    "\n",
    "• This is done to reduce memory usage and improve performance when working with categorical data."
   ]
  },
  {
   "cell_type": "code",
   "execution_count": 21,
   "id": "c970bd3a",
   "metadata": {},
   "outputs": [
    {
     "data": {
      "text/plain": [
       "carat       float64\n",
       "cut        category\n",
       "color      category\n",
       "clarity    category\n",
       "depth       float64\n",
       "table       float64\n",
       "x           float64\n",
       "y           float64\n",
       "z           float64\n",
       "dtype: object"
      ]
     },
     "execution_count": 21,
     "metadata": {},
     "output_type": "execute_result"
    }
   ],
   "source": [
    "x.dtypes"
   ]
  },
  {
   "cell_type": "code",
   "execution_count": 22,
   "id": "b94196b1",
   "metadata": {},
   "outputs": [],
   "source": [
    "# Extract text features\n",
    "cats = x.select_dtypes(exclude=np.number).columns.tolist()\n",
    "\n",
    "for cols in cats:\n",
    "    x[cols] = x[cols].astype('category')"
   ]
  },
  {
   "cell_type": "code",
   "execution_count": 23,
   "id": "19a5c108",
   "metadata": {},
   "outputs": [
    {
     "data": {
      "text/plain": [
       "carat       float64\n",
       "cut        category\n",
       "color      category\n",
       "clarity    category\n",
       "depth       float64\n",
       "table       float64\n",
       "x           float64\n",
       "y           float64\n",
       "z           float64\n",
       "dtype: object"
      ]
     },
     "execution_count": 23,
     "metadata": {},
     "output_type": "execute_result"
    }
   ],
   "source": [
    "x.dtypes"
   ]
  },
  {
   "cell_type": "code",
   "execution_count": 24,
   "id": "ce604a5f",
   "metadata": {},
   "outputs": [],
   "source": [
    "# Split the data\n",
    "X_train, X_test, y_train, y_test = train_test_split(x, y, random_state=1)"
   ]
  },
  {
   "cell_type": "markdown",
   "id": "9faae2a2",
   "metadata": {},
   "source": [
    "Now, the important part: XGBoost comes with its own class for storing datasets called DMatrix. It is a highly optimized class for memory and speed. That's why converting datasets into this format is a requirement for the native XGBoost API:"
   ]
  },
  {
   "cell_type": "code",
   "execution_count": 25,
   "id": "898cf806",
   "metadata": {},
   "outputs": [],
   "source": [
    "import xgboost as xgb\n",
    "\n",
    "# Create regression matrices\n",
    "dtrain_reg = xgb.DMatrix(X_train, y_train, enable_categorical=True)\n",
    "dtest_reg = xgb.DMatrix(X_test, y_test, enable_categorical=True)"
   ]
  },
  {
   "cell_type": "code",
   "execution_count": 29,
   "id": "80ff3aaf",
   "metadata": {},
   "outputs": [],
   "source": [
    "# Define hyperparameters\n",
    "params = {\"objective\": \"reg:squarederror\", \"tree_method\": \"hist\"}"
   ]
  },
  {
   "cell_type": "markdown",
   "id": "8849d94a",
   "metadata": {},
   "source": [
    "This code defines a dictionary called params that contains two hyperparameters for an XGBoost model.\n",
    "\n",
    "• The first hyperparameter is \"objective\": \"reg:squarederror\", which specifies that the model will use mean squared error as the loss function for regression.\n",
    "\n",
    "• The second hyperparameter is \"tree_method\": \"gpu_hist\", which specifies that the model will use GPU acceleration to build histograms for computing gradients during training.\n",
    "\n",
    "• This can significantly speed up the training process for large datasets."
   ]
  },
  {
   "cell_type": "code",
   "execution_count": 30,
   "id": "588e86d0",
   "metadata": {},
   "outputs": [],
   "source": [
    "n = 100\n",
    "model = xgb.train(\n",
    "   params=params,\n",
    "   dtrain=dtrain_reg,\n",
    "   num_boost_round=n,\n",
    ")"
   ]
  },
  {
   "cell_type": "markdown",
   "id": "c8be2c85",
   "metadata": {},
   "source": [
    "Now, we set another parameter called num_boost_round, which stands for number of boosting rounds. Internally, XGBoost minimizes the loss function RMSE in small incremental rounds (more on this later). This parameter specifies the amount of those rounds.\n",
    "\n",
    "The ideal number of rounds is found through hyperparameter tuning. For now, we will just set it to 100:"
   ]
  },
  {
   "cell_type": "markdown",
   "id": "44c7aa6c",
   "metadata": {},
   "source": [
    "During the boosting rounds, the model object has learned all the patterns of the training set it possibly can. Now, we must measure its performance by testing it on unseen data. That's where our dtest_reg DMatrix comes into play"
   ]
  },
  {
   "cell_type": "code",
   "execution_count": 31,
   "id": "234b7352",
   "metadata": {},
   "outputs": [],
   "source": [
    "from sklearn.metrics import mean_squared_error\n",
    "\n",
    "preds = model.predict(dtest_reg)"
   ]
  },
  {
   "cell_type": "code",
   "execution_count": 32,
   "id": "2f673023",
   "metadata": {},
   "outputs": [
    {
     "name": "stdout",
     "output_type": "stream",
     "text": [
      "RMSE of the base model: 545.388\n"
     ]
    }
   ],
   "source": [
    "rmse = mean_squared_error(y_test, preds, squared=False)\n",
    "\n",
    "print(f\"RMSE of the base model: {rmse:.3f}\")"
   ]
  },
  {
   "cell_type": "markdown",
   "id": "c239cdb7",
   "metadata": {},
   "source": [
    "We’ve got a base score ~543$, which was the performance of a base model with default parameters. There are two ways we can improve it— by performing cross-validation and hyperparameter tuning. But before that, let’s see a quicker way of evaluating XGBoost models."
   ]
  },
  {
   "cell_type": "markdown",
   "id": "7ba573c7",
   "metadata": {},
   "source": [
    "The problem with our current training process is that we can’t even watch where the model is going. To solve this, we will use evaluation arrays that allow us to see model performance as it gets improved incrementally across boosting rounds.\n",
    "\n",
    "First, let’s set up the parameters again:"
   ]
  },
  {
   "cell_type": "code",
   "execution_count": 33,
   "id": "4319b230",
   "metadata": {},
   "outputs": [],
   "source": [
    "params = {\"objective\": \"reg:squarederror\", \"tree_method\": \"hist\"}\n",
    "n = 100"
   ]
  },
  {
   "cell_type": "markdown",
   "id": "51654416",
   "metadata": {},
   "source": [
    "When we pass this array to the evals parameter of xgb.train, we will see the model performance after each boosting round:"
   ]
  },
  {
   "cell_type": "code",
   "execution_count": 35,
   "id": "bcc3396f",
   "metadata": {},
   "outputs": [
    {
     "name": "stdout",
     "output_type": "stream",
     "text": [
      "[0]\ttrain-rmse:3985.31595\tvalidation-rmse:3930.87087\n",
      "[1]\ttrain-rmse:2849.92126\tvalidation-rmse:2812.52945\n",
      "[2]\ttrain-rmse:2061.76472\tvalidation-rmse:2034.91266\n",
      "[3]\ttrain-rmse:1521.58802\tvalidation-rmse:1509.03801\n",
      "[4]\ttrain-rmse:1158.20689\tvalidation-rmse:1155.77477\n",
      "[5]\ttrain-rmse:918.95666\tvalidation-rmse:922.81058\n",
      "[6]\ttrain-rmse:765.71970\tvalidation-rmse:778.96367\n",
      "[7]\ttrain-rmse:671.73734\tvalidation-rmse:692.56259\n",
      "[8]\ttrain-rmse:612.92636\tvalidation-rmse:638.83852\n",
      "[9]\ttrain-rmse:578.33182\tvalidation-rmse:608.53984\n",
      "[10]\ttrain-rmse:557.19710\tvalidation-rmse:591.03042\n",
      "[11]\ttrain-rmse:542.58916\tvalidation-rmse:578.99646\n",
      "[12]\ttrain-rmse:534.88302\tvalidation-rmse:573.25964\n",
      "[13]\ttrain-rmse:527.20423\tvalidation-rmse:566.28647\n",
      "[14]\ttrain-rmse:520.90582\tvalidation-rmse:561.97563\n",
      "[15]\ttrain-rmse:515.69808\tvalidation-rmse:558.92935\n",
      "[16]\ttrain-rmse:512.45290\tvalidation-rmse:557.84167\n",
      "[17]\ttrain-rmse:507.50759\tvalidation-rmse:556.68519\n",
      "[18]\ttrain-rmse:504.04144\tvalidation-rmse:553.56230\n",
      "[19]\ttrain-rmse:499.18646\tvalidation-rmse:551.09108\n",
      "[20]\ttrain-rmse:495.31647\tvalidation-rmse:550.76666\n",
      "[21]\ttrain-rmse:491.79040\tvalidation-rmse:550.60082\n",
      "[22]\ttrain-rmse:487.77269\tvalidation-rmse:548.36432\n",
      "[23]\ttrain-rmse:486.55224\tvalidation-rmse:547.99883\n",
      "[24]\ttrain-rmse:485.06522\tvalidation-rmse:548.32492\n",
      "[25]\ttrain-rmse:481.40234\tvalidation-rmse:546.35318\n",
      "[26]\ttrain-rmse:475.79729\tvalidation-rmse:546.48934\n",
      "[27]\ttrain-rmse:474.35138\tvalidation-rmse:545.81126\n",
      "[28]\ttrain-rmse:471.78810\tvalidation-rmse:546.34150\n",
      "[29]\ttrain-rmse:469.57226\tvalidation-rmse:545.78579\n",
      "[30]\ttrain-rmse:467.13670\tvalidation-rmse:547.16647\n",
      "[31]\ttrain-rmse:465.60822\tvalidation-rmse:546.68017\n",
      "[32]\ttrain-rmse:463.18297\tvalidation-rmse:546.35900\n",
      "[33]\ttrain-rmse:461.03645\tvalidation-rmse:546.92292\n",
      "[34]\ttrain-rmse:459.11065\tvalidation-rmse:545.65415\n",
      "[35]\ttrain-rmse:455.58103\tvalidation-rmse:545.60024\n",
      "[36]\ttrain-rmse:453.61231\tvalidation-rmse:545.11648\n",
      "[37]\ttrain-rmse:451.70785\tvalidation-rmse:544.35182\n",
      "[38]\ttrain-rmse:450.80103\tvalidation-rmse:543.49648\n",
      "[39]\ttrain-rmse:447.46143\tvalidation-rmse:544.23386\n",
      "[40]\ttrain-rmse:447.26879\tvalidation-rmse:544.10422\n",
      "[41]\ttrain-rmse:445.31017\tvalidation-rmse:544.32107\n",
      "[42]\ttrain-rmse:443.57201\tvalidation-rmse:544.19011\n",
      "[43]\ttrain-rmse:441.65878\tvalidation-rmse:544.16246\n",
      "[44]\ttrain-rmse:440.49680\tvalidation-rmse:544.10014\n",
      "[45]\ttrain-rmse:439.46627\tvalidation-rmse:543.94863\n",
      "[46]\ttrain-rmse:437.09814\tvalidation-rmse:543.69954\n",
      "[47]\ttrain-rmse:435.52668\tvalidation-rmse:543.50496\n",
      "[48]\ttrain-rmse:433.53532\tvalidation-rmse:544.29780\n",
      "[49]\ttrain-rmse:432.63530\tvalidation-rmse:544.03805\n",
      "[50]\ttrain-rmse:432.51681\tvalidation-rmse:543.97371\n",
      "[51]\ttrain-rmse:432.34761\tvalidation-rmse:543.84972\n",
      "[52]\ttrain-rmse:432.29726\tvalidation-rmse:543.74148\n",
      "[53]\ttrain-rmse:429.82478\tvalidation-rmse:544.32619\n",
      "[54]\ttrain-rmse:428.05758\tvalidation-rmse:544.44648\n",
      "[55]\ttrain-rmse:427.29817\tvalidation-rmse:544.98653\n",
      "[56]\ttrain-rmse:425.98187\tvalidation-rmse:545.03108\n",
      "[57]\ttrain-rmse:423.33404\tvalidation-rmse:545.05312\n",
      "[58]\ttrain-rmse:422.41177\tvalidation-rmse:545.31690\n",
      "[59]\ttrain-rmse:421.42258\tvalidation-rmse:545.08016\n",
      "[60]\ttrain-rmse:420.72943\tvalidation-rmse:544.77874\n",
      "[61]\ttrain-rmse:420.07456\tvalidation-rmse:544.64864\n",
      "[62]\ttrain-rmse:418.52485\tvalidation-rmse:543.86081\n",
      "[63]\ttrain-rmse:416.56287\tvalidation-rmse:544.48380\n",
      "[64]\ttrain-rmse:415.38839\tvalidation-rmse:544.66277\n",
      "[65]\ttrain-rmse:413.79059\tvalidation-rmse:544.35353\n",
      "[66]\ttrain-rmse:412.29481\tvalidation-rmse:545.02371\n",
      "[67]\ttrain-rmse:411.09605\tvalidation-rmse:545.16844\n",
      "[68]\ttrain-rmse:409.60411\tvalidation-rmse:545.17511\n",
      "[69]\ttrain-rmse:409.52580\tvalidation-rmse:545.13299\n",
      "[70]\ttrain-rmse:408.72053\tvalidation-rmse:544.77491\n",
      "[71]\ttrain-rmse:407.41467\tvalidation-rmse:544.76693\n",
      "[72]\ttrain-rmse:406.22548\tvalidation-rmse:544.58523\n",
      "[73]\ttrain-rmse:405.13579\tvalidation-rmse:544.58790\n",
      "[74]\ttrain-rmse:403.21449\tvalidation-rmse:544.20643\n",
      "[75]\ttrain-rmse:401.49377\tvalidation-rmse:544.21367\n",
      "[76]\ttrain-rmse:400.26256\tvalidation-rmse:544.37858\n",
      "[77]\ttrain-rmse:399.13349\tvalidation-rmse:544.27528\n",
      "[78]\ttrain-rmse:398.41975\tvalidation-rmse:544.34434\n",
      "[79]\ttrain-rmse:397.02373\tvalidation-rmse:543.90283\n",
      "[80]\ttrain-rmse:395.88816\tvalidation-rmse:544.33808\n",
      "[81]\ttrain-rmse:394.50402\tvalidation-rmse:544.09663\n",
      "[82]\ttrain-rmse:392.17516\tvalidation-rmse:544.86751\n",
      "[83]\ttrain-rmse:390.77213\tvalidation-rmse:544.69666\n",
      "[84]\ttrain-rmse:389.19070\tvalidation-rmse:545.24559\n",
      "[85]\ttrain-rmse:389.13130\tvalidation-rmse:545.07051\n",
      "[86]\ttrain-rmse:387.77570\tvalidation-rmse:545.34295\n",
      "[87]\ttrain-rmse:386.38896\tvalidation-rmse:545.45681\n",
      "[88]\ttrain-rmse:385.79451\tvalidation-rmse:545.25177\n",
      "[89]\ttrain-rmse:385.18080\tvalidation-rmse:545.26247\n",
      "[90]\ttrain-rmse:383.62262\tvalidation-rmse:545.99682\n",
      "[91]\ttrain-rmse:383.32585\tvalidation-rmse:545.84979\n",
      "[92]\ttrain-rmse:382.91168\tvalidation-rmse:545.61669\n",
      "[93]\ttrain-rmse:381.20257\tvalidation-rmse:545.30431\n",
      "[94]\ttrain-rmse:380.88685\tvalidation-rmse:545.46579\n",
      "[95]\ttrain-rmse:380.83559\tvalidation-rmse:545.44038\n",
      "[96]\ttrain-rmse:380.68636\tvalidation-rmse:545.44898\n",
      "[97]\ttrain-rmse:380.48816\tvalidation-rmse:545.30215\n",
      "[98]\ttrain-rmse:379.68519\tvalidation-rmse:545.23124\n",
      "[99]\ttrain-rmse:378.37454\tvalidation-rmse:545.38842\n"
     ]
    }
   ],
   "source": [
    "evals = [(dtrain_reg, \"train\"), (dtest_reg, \"validation\")]\n",
    "\n",
    "model = xgb.train(\n",
    "   params=params,\n",
    "   dtrain=dtrain_reg,\n",
    "   num_boost_round=n,\n",
    "   evals=evals,\n",
    ")"
   ]
  },
  {
   "cell_type": "markdown",
   "id": "7a89e7fe",
   "metadata": {},
   "source": [
    "We will use a technique called early stopping. Early stopping forces XGBoost to watch the validation loss, and if it stops improving for a specified number of rounds, it automatically stops training.\n",
    "\n",
    "This means we can set as high a number of boosting rounds as long as we set a sensible number of early stopping rounds."
   ]
  },
  {
   "cell_type": "code",
   "execution_count": 36,
   "id": "36edc6be",
   "metadata": {},
   "outputs": [
    {
     "name": "stdout",
     "output_type": "stream",
     "text": [
      "[0]\ttrain-rmse:3985.31595\tvalidation-rmse:3930.87087\n",
      "[50]\ttrain-rmse:432.51681\tvalidation-rmse:543.97371\n",
      "[87]\ttrain-rmse:386.38896\tvalidation-rmse:545.45681\n"
     ]
    }
   ],
   "source": [
    "n = 10000\n",
    "\n",
    "\n",
    "model = xgb.train(\n",
    "   params=params,\n",
    "   dtrain=dtrain_reg,\n",
    "   num_boost_round=n,\n",
    "   evals=evals,\n",
    "   verbose_eval=50,\n",
    "   # Activate early stopping\n",
    "   early_stopping_rounds=50\n",
    ")"
   ]
  },
  {
   "cell_type": "markdown",
   "id": "c548d5bd",
   "metadata": {},
   "source": [
    "As you can see, the training stopped after the 87th round because the loss stopped improving for 50 rounds before that."
   ]
  },
  {
   "cell_type": "markdown",
   "id": "4cf170e8",
   "metadata": {},
   "source": [
    "XGBoost Cross-Validation"
   ]
  },
  {
   "cell_type": "code",
   "execution_count": 38,
   "id": "db8449e6",
   "metadata": {},
   "outputs": [],
   "source": [
    "params = {\"objective\": \"reg:squarederror\", \"tree_method\": \"hist\"}\n",
    "n = 1000\n",
    "\n",
    "results = xgb.cv(\n",
    "   params, dtrain_reg,\n",
    "   num_boost_round=n,\n",
    "   nfold=5,\n",
    "   early_stopping_rounds=20\n",
    ")"
   ]
  },
  {
   "cell_type": "code",
   "execution_count": 39,
   "id": "5cb2458d",
   "metadata": {},
   "outputs": [
    {
     "data": {
      "text/html": [
       "<div>\n",
       "<style scoped>\n",
       "    .dataframe tbody tr th:only-of-type {\n",
       "        vertical-align: middle;\n",
       "    }\n",
       "\n",
       "    .dataframe tbody tr th {\n",
       "        vertical-align: top;\n",
       "    }\n",
       "\n",
       "    .dataframe thead th {\n",
       "        text-align: right;\n",
       "    }\n",
       "</style>\n",
       "<table border=\"1\" class=\"dataframe\">\n",
       "  <thead>\n",
       "    <tr style=\"text-align: right;\">\n",
       "      <th></th>\n",
       "      <th>train-rmse-mean</th>\n",
       "      <th>train-rmse-std</th>\n",
       "      <th>test-rmse-mean</th>\n",
       "      <th>test-rmse-std</th>\n",
       "    </tr>\n",
       "  </thead>\n",
       "  <tbody>\n",
       "    <tr>\n",
       "      <th>0</th>\n",
       "      <td>3985.648654</td>\n",
       "      <td>10.343596</td>\n",
       "      <td>3986.913623</td>\n",
       "      <td>41.642778</td>\n",
       "    </tr>\n",
       "    <tr>\n",
       "      <th>1</th>\n",
       "      <td>2848.365726</td>\n",
       "      <td>8.014086</td>\n",
       "      <td>2851.020437</td>\n",
       "      <td>28.028733</td>\n",
       "    </tr>\n",
       "    <tr>\n",
       "      <th>2</th>\n",
       "      <td>2063.401458</td>\n",
       "      <td>4.637773</td>\n",
       "      <td>2068.629977</td>\n",
       "      <td>19.969459</td>\n",
       "    </tr>\n",
       "    <tr>\n",
       "      <th>3</th>\n",
       "      <td>1521.493751</td>\n",
       "      <td>3.874078</td>\n",
       "      <td>1530.496272</td>\n",
       "      <td>13.592330</td>\n",
       "    </tr>\n",
       "    <tr>\n",
       "      <th>4</th>\n",
       "      <td>1156.827103</td>\n",
       "      <td>2.991735</td>\n",
       "      <td>1170.413316</td>\n",
       "      <td>11.695597</td>\n",
       "    </tr>\n",
       "  </tbody>\n",
       "</table>\n",
       "</div>"
      ],
      "text/plain": [
       "   train-rmse-mean  train-rmse-std  test-rmse-mean  test-rmse-std\n",
       "0      3985.648654       10.343596     3986.913623      41.642778\n",
       "1      2848.365726        8.014086     2851.020437      28.028733\n",
       "2      2063.401458        4.637773     2068.629977      19.969459\n",
       "3      1521.493751        3.874078     1530.496272      13.592330\n",
       "4      1156.827103        2.991735     1170.413316      11.695597"
      ]
     },
     "execution_count": 39,
     "metadata": {},
     "output_type": "execute_result"
    }
   ],
   "source": [
    "results.head()"
   ]
  },
  {
   "cell_type": "markdown",
   "id": "a4f6f2b4",
   "metadata": {},
   "source": [
    "It has the same number of rows as the number of boosting rounds. Each row is the average of all splits for that round. So, to find the best score, we take the minimum of the test-rmse-mean column:"
   ]
  },
  {
   "cell_type": "code",
   "execution_count": 40,
   "id": "a4db5d63",
   "metadata": {},
   "outputs": [
    {
     "data": {
      "text/plain": [
       "550.7196748119261"
      ]
     },
     "execution_count": 40,
     "metadata": {},
     "output_type": "execute_result"
    }
   ],
   "source": [
    "best_rmse = results['test-rmse-mean'].min()\n",
    "\n",
    "best_rmse"
   ]
  },
  {
   "cell_type": "code",
   "execution_count": null,
   "id": "d42b9693",
   "metadata": {},
   "outputs": [],
   "source": []
  }
 ],
 "metadata": {
  "kernelspec": {
   "display_name": "Python 3 (ipykernel)",
   "language": "python",
   "name": "python3"
  },
  "language_info": {
   "codemirror_mode": {
    "name": "ipython",
    "version": 3
   },
   "file_extension": ".py",
   "mimetype": "text/x-python",
   "name": "python",
   "nbconvert_exporter": "python",
   "pygments_lexer": "ipython3",
   "version": "3.10.9"
  }
 },
 "nbformat": 4,
 "nbformat_minor": 5
}
